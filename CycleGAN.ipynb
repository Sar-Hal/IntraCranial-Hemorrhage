{
 "cells": [
  {
   "cell_type": "code",
   "execution_count": null,
   "id": "df9eeac7",
   "metadata": {},
   "outputs": [],
   "source": [
    "import os\n",
    "import shutil\n",
    "import random\n",
    "\n",
    "# Set seeds for reproducibility\n",
    "random.seed(42)\n",
    "\n",
    "# Paths\n",
    "hemo_src = 'hemorrhage_slices'\n",
    "nonhemo_src = 'non_hemorrhage_slices'\n",
    "base_dest = 'datasets/hemorrhage'\n",
    "\n",
    "# Target folders\n",
    "os.makedirs(f'{base_dest}/trainA', exist_ok=True)\n",
    "os.makedirs(f'{base_dest}/testA', exist_ok=True)\n",
    "os.makedirs(f'{base_dest}/trainB', exist_ok=True)\n",
    "os.makedirs(f'{base_dest}/testB', exist_ok=True)\n",
    "\n",
    "# Split function\n",
    "def split_and_copy(src_dir, train_dir, test_dir, split_ratio=0.85):\n",
    "    files = [f for f in os.listdir(src_dir) if f.endswith(('.png', '.jpg', '.jpeg'))]\n",
    "    random.shuffle(files)\n",
    "    split_idx = int(len(files) * split_ratio)\n",
    "    train_files = files[:split_idx]\n",
    "    test_files = files[split_idx:]\n",
    "\n",
    "    for f in train_files:\n",
    "        shutil.copy(os.path.join(src_dir, f), os.path.join(train_dir, f))\n",
    "    for f in test_files:\n",
    "        shutil.copy(os.path.join(src_dir, f), os.path.join(test_dir, f))\n",
    "\n",
    "# Apply for both domains\n",
    "split_and_copy(hemo_src, f'{base_dest}/trainA', f'{base_dest}/testA')\n",
    "split_and_copy(nonhemo_src, f'{base_dest}/trainB', f'{base_dest}/testB')\n"
   ]
  },
  {
   "cell_type": "code",
   "execution_count": null,
   "id": "6d78095a",
   "metadata": {},
   "outputs": [],
   "source": [
    "print(\"Hemorrhage - TrainA:\", len(os.listdir(f'{base_dest}/trainA')))\n",
    "print(\"Hemorrhage - TestA:\", len(os.listdir(f'{base_dest}/testA')))\n",
    "print(\"Normal - TrainB:\", len(os.listdir(f'{base_dest}/trainB')))\n",
    "print(\"Normal - TestB:\", len(os.listdir(f'{base_dest}/testB')))"
   ]
  }
 ],
 "metadata": {
  "kernelspec": {
   "display_name": "Python 3",
   "language": "python",
   "name": "python3"
  },
  "language_info": {
   "name": "python",
   "version": "3.11.5"
  }
 },
 "nbformat": 4,
 "nbformat_minor": 5
}
